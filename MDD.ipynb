{
  "nbformat": 4,
  "nbformat_minor": 0,
  "metadata": {
    "colab": {
      "provenance": []
    },
    "kernelspec": {
      "name": "python3",
      "display_name": "Python 3"
    },
    "language_info": {
      "name": "python"
    }
  },
  "cells": [
    {
      "cell_type": "markdown",
      "source": [
        "# **Games with AVG starting player valuations**"
      ],
      "metadata": {
        "id": "cYVSwQu_scsR"
      }
    },
    {
      "cell_type": "code",
      "source": [
        "import pandas as pd\n",
        "valuations = pd.read_csv(\"player_valuations.csv\")\n",
        "valuations[\"date\"] = pd.to_datetime(valuations.date)\n",
        "valuations[\"season\"] = valuations.apply(lambda x: x.date.year, axis=1)\n",
        "valuations = valuations.groupby([\"player_id\", \"season\"]).max(\"market_value_in_eur\").reset_index()\n",
        "valuations = valuations[[\"player_id\", \"market_value_in_eur\", \"season\"]]\n",
        "\n",
        "games = pd.read_csv(\"games.csv\")\n",
        "games = games[[\n",
        "    \"game_id\", \"season\", \"home_club_id\", \"away_club_id\",\n",
        "    \"home_club_goals\", \"away_club_goals\", \"home_club_position\",\n",
        "    \"away_club_position\"\n",
        "]]\n",
        "\n",
        "game_lineups = pd.read_csv(\"game_lineups.csv\")\n",
        "game_lineups = game_lineups[game_lineups[\"type\"] == \"starting_lineup\"]\n",
        "game_lineups = game_lineups[[\"game_id\", \"club_id\", \"player_id\"]]"
      ],
      "metadata": {
        "id": "FkkUfwFWse4A"
      },
      "execution_count": null,
      "outputs": []
    },
    {
      "cell_type": "code",
      "source": [
        "df = games.merge(game_lineups, on=\"game_id\").merge(valuations, on=[\"player_id\", \"season\"])\n",
        "market_values = df.groupby([\"game_id\", \"club_id\"])[[\"market_value_in_eur\"]].mean().reset_index()"
      ],
      "metadata": {
        "id": "ybmSSSDzuYN9"
      },
      "execution_count": null,
      "outputs": []
    },
    {
      "cell_type": "code",
      "source": [
        "df = games.merge(market_values, left_on=[\"game_id\", \"home_club_id\"],\n",
        "                 right_on=[\"game_id\", \"club_id\"], suffixes=[\"\", \"_\"])\n",
        "df = df[[\n",
        "    \"game_id\", \"season\", \"home_club_id\", \"away_club_id\", \"home_club_position\",\n",
        "    \"away_club_position\", \"home_club_goals\",\n",
        "    \"away_club_goals\", \"market_value_in_eur\"\n",
        "]]\n",
        "\n",
        "df.columns = [\n",
        "    \"game_id\", \"season\", \"home_club_id\", \"away_club_id\", \"home_club_position\",\n",
        "    \"away_club_position\", \"home_club_goals\",\n",
        "    \"away_club_goals\", \"home_avg_market_value\"\n",
        "]\n",
        "\n",
        "df = df.merge(market_values, left_on=[\"game_id\", \"away_club_id\"],\n",
        "              right_on=[\"game_id\", \"club_id\"], suffixes=[\"\", \"_\"])\n",
        "df = df[[\n",
        "    \"game_id\", \"season\", \"home_club_id\", \"away_club_id\", \"home_club_position\",\n",
        "    \"away_club_position\", \"home_club_goals\",\n",
        "    \"away_club_goals\", \"home_avg_market_value\", \"market_value_in_eur\"\n",
        "]]\n",
        "\n",
        "df.columns = [\n",
        "    \"game_id\", \"season\", \"home_club_id\", \"away_club_id\", \"home_club_position\",\n",
        "    \"away_club_position\", \"home_club_goals\",\n",
        "    \"away_club_goals\", \"home_avg_market_value\", \"away_avg_market_value\"\n",
        "]"
      ],
      "metadata": {
        "id": "StO2W1AJzBJT"
      },
      "execution_count": null,
      "outputs": []
    },
    {
      "cell_type": "code",
      "source": [
        "def result(data):\n",
        "  home=data[\"home_club_goals\"]\n",
        "  away=data[\"away_club_goals\"]\n",
        "  if home > away:\n",
        "    val = 1\n",
        "  elif home == away:\n",
        "    val = 0\n",
        "  elif home < away:\n",
        "    val = -1\n",
        "  return val\n",
        "\n",
        "df[\"result\"] = df.apply(result, axis=1)"
      ],
      "metadata": {
        "id": "7IPBaoG_5VkD"
      },
      "execution_count": null,
      "outputs": []
    },
    {
      "cell_type": "code",
      "source": [
        "def difference(data):\n",
        "  home = data[\"home_club_goals\"]\n",
        "  away = data[\"away_club_goals\"]\n",
        "  difference = home - away\n",
        "  return difference\n",
        "\n",
        "df[\"difference\"] = df.apply(difference, axis=1)"
      ],
      "metadata": {
        "id": "KtVflgx1U00l"
      },
      "execution_count": 309,
      "outputs": []
    },
    {
      "cell_type": "markdown",
      "source": [
        "# **Baseline**"
      ],
      "metadata": {
        "id": "pyA0Db--75eD"
      }
    },
    {
      "cell_type": "markdown",
      "source": [
        "# **SVM with only positions**"
      ],
      "metadata": {
        "id": "ElM_Fj2qKeI8"
      }
    },
    {
      "cell_type": "code",
      "source": [
        "import numpy as np\n",
        "from sklearn.pipeline import make_pipeline\n",
        "from sklearn.preprocessing import StandardScaler\n",
        "from sklearn import metrics\n",
        "from sklearn.model_selection import train_test_split\n",
        "from sklearn.svm import SVC"
      ],
      "metadata": {
        "id": "q7tnymAW79qz"
      },
      "execution_count": null,
      "outputs": []
    },
    {
      "cell_type": "code",
      "source": [
        "games = games.dropna()\n",
        "games[\"result\"] = games.apply(result, axis=1)"
      ],
      "metadata": {
        "id": "gF7tuyHyMUME"
      },
      "execution_count": null,
      "outputs": []
    },
    {
      "cell_type": "code",
      "source": [
        "X = games[[\n",
        "    \"home_club_position\", \"away_club_position\"\n",
        "]].to_numpy()\n",
        "y = games[\"result\"]\n",
        "X_train, X_test, y_train, y_test = train_test_split(\n",
        "    X, y, test_size=0.2, stratify=y)"
      ],
      "metadata": {
        "id": "NxLLP5gDIjmx"
      },
      "execution_count": 305,
      "outputs": []
    },
    {
      "cell_type": "code",
      "source": [
        "clf = make_pipeline(StandardScaler(), SVC(kernel=\"rbf\"))\n",
        "clf.fit(X_train, y_train)"
      ],
      "metadata": {
        "id": "pA3zlGdtMl5s"
      },
      "execution_count": null,
      "outputs": []
    },
    {
      "cell_type": "code",
      "source": [
        "y_pred_train = clf.predict(X_train)\n",
        "y_pred_test = clf.predict(X_test)\n",
        "print(\"Train accuracy:\", metrics.accuracy_score(y_train, y_pred_train))\n",
        "print(\"Test accuracy:\", metrics.accuracy_score(y_test, y_pred_test))"
      ],
      "metadata": {
        "colab": {
          "base_uri": "https://localhost:8080/"
        },
        "id": "SLTY5Sf3P2o6",
        "outputId": "4d085f65-71da-49f4-b6be-5b27393c43fe"
      },
      "execution_count": 307,
      "outputs": [
        {
          "output_type": "stream",
          "name": "stdout",
          "text": [
            "Train accuracy: 0.5893094289508632\n",
            "Test accuracy: 0.5903507801261481\n"
          ]
        }
      ]
    },
    {
      "cell_type": "code",
      "source": [
        "cm = metrics.confusion_matrix(y_pred, y_test)\n",
        "cm_display = metrics.ConfusionMatrixDisplay(cm, display_labels=[-1, 0, 1]).plot()"
      ],
      "metadata": {
        "colab": {
          "base_uri": "https://localhost:8080/",
          "height": 449
        },
        "id": "EWmNimdpKMCm",
        "outputId": "c310b4c8-a063-4ee6-ac1a-444db48e80e0"
      },
      "execution_count": null,
      "outputs": [
        {
          "output_type": "display_data",
          "data": {
            "text/plain": [
              "<Figure size 640x480 with 2 Axes>"
            ],
            "image/png": "[encoded data removed]"
          },
          "metadata": {}
        }
      ]
    },
    {
      "cell_type": "markdown",
      "source": [
        "# SVM"
      ],
      "metadata": {
        "id": "LUu4iUhtA0Zo"
      }
    },
    {
      "cell_type": "code",
      "source": [
        "df = df.dropna()"
      ],
      "metadata": {
        "id": "WPZDt5mZ-q3-"
      },
      "execution_count": 300,
      "outputs": []
    },
    {
      "cell_type": "code",
      "source": [
        "X = df[[\"home_avg_market_value\",\n",
        "        \"away_avg_market_value\",\n",
        "        \"home_club_position\",\n",
        "        \"away_club_position\"]].to_numpy()\n",
        "y = df[\"result\"]\n",
        "X_train, X_test, y_train, y_test = train_test_split(\n",
        "    X, y, test_size=0.2, stratify=y)"
      ],
      "metadata": {
        "id": "HiGcaOUQ52fE"
      },
      "execution_count": 301,
      "outputs": []
    },
    {
      "cell_type": "code",
      "source": [
        "clf = make_pipeline(StandardScaler(), SVC(kernel=\"rbf\"))\n",
        "clf.fit(X_train, y_train)"
      ],
      "metadata": {
        "id": "R6eG9-LN7jvo"
      },
      "execution_count": null,
      "outputs": []
    },
    {
      "cell_type": "code",
      "source": [
        "y_pred_train = clf.predict(X_train)\n",
        "y_pred_test = clf.predict(X_test)\n",
        "print(\"Train accuracy:\", metrics.accuracy_score(y_train, y_pred_train))\n",
        "print(\"Test accuracy:\", metrics.accuracy_score(y_test, y_pred_test))"
      ],
      "metadata": {
        "colab": {
          "base_uri": "https://localhost:8080/"
        },
        "id": "kLqZUHR7QEyq",
        "outputId": "bee71284-0ac3-4b64-bbed-d3bd2137a3aa"
      },
      "execution_count": 304,
      "outputs": [
        {
          "output_type": "stream",
          "name": "stdout",
          "text": [
            "Train accuracy: 0.7006211180124223\n",
            "Test accuracy: 0.6782178217821783\n"
          ]
        }
      ]
    },
    {
      "cell_type": "code",
      "source": [
        "cm = metrics.confusion_matrix(y_pred, y_test)\n",
        "cm_display = metrics.ConfusionMatrixDisplay(cm, display_labels=[-1, 0, 1]).plot()"
      ],
      "metadata": {
        "colab": {
          "base_uri": "https://localhost:8080/",
          "height": 450
        },
        "id": "_4Ma2JP0_9I9",
        "outputId": "64c3f7aa-42c1-4aba-e0ee-046c8850a03d"
      },
      "execution_count": null,
      "outputs": [
        {
          "output_type": "display_data",
          "data": {
            "text/plain": [
              "<Figure size 640x480 with 2 Axes>"
            ],
            "image/png": "[encoded data removed]"
          },
          "metadata": {}
        }
      ]
    },
    {
      "cell_type": "markdown",
      "source": [
        "# NN"
      ],
      "metadata": {
        "id": "9AwN87OTA4eE"
      }
    },
    {
      "cell_type": "code",
      "source": [
        "from keras.models import Sequential\n",
        "from keras.layers import Dense\n",
        "from keras.optimizers import Adam\n",
        "from sklearn.metrics import classification_report"
      ],
      "metadata": {
        "id": "pjQKooACBa9f"
      },
      "execution_count": null,
      "outputs": []
    },
    {
      "cell_type": "code",
      "source": [
        "X = df[[\"home_avg_market_value\", \"away_avg_market_value\",\n",
        "        \"home_club_position\",\t\"away_club_position\"]].to_numpy()\n",
        "y = df[\"goal_dif\"]\n",
        "X_train, X_test, y_train, y_test = train_test_split(X, y, test_size=0.2)"
      ],
      "metadata": {
        "id": "EntouYbpC_p_"
      },
      "execution_count": null,
      "outputs": []
    },
    {
      "cell_type": "code",
      "source": [
        "def TrainMLP(X, y, layers, activation=\"tanh\",\n",
        "             lr=0.01, epochs=20):\n",
        "  model = Sequential()\n",
        "  for units in layers:\n",
        "    model.add(Dense(units, activation=activation))\n",
        "  model.add(Dense(1, activation=\"linear\"))\n",
        "  model.compile(optimizer=Adam(learning_rate=lr), loss=\"mse\")\n",
        "  model.fit(X, y, epochs=epochs, validation_split=0.2,\n",
        "            batch_size=round(len(X)/10), verbose=1)\n",
        "  return model"
      ],
      "metadata": {
        "id": "a3DNn-AxAGrQ"
      },
      "execution_count": null,
      "outputs": []
    },
    {
      "cell_type": "code",
      "source": [
        "layers = [20, 6, 4]\n",
        "model = TrainMLP(X_train, y_train, layers=layers)"
      ],
      "metadata": {
        "id": "u_P6l1MNBgnv"
      },
      "execution_count": null,
      "outputs": []
    },
    {
      "cell_type": "code",
      "source": [
        "y_train_pred = model(X_train).numpy()\n",
        "y_val_pred = model(X_test).numpy()"
      ],
      "metadata": {
        "id": "g_IqKzD_BpqS"
      },
      "execution_count": null,
      "outputs": []
    }
  ]
}