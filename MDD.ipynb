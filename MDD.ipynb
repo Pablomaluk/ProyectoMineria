{
  "nbformat": 4,
  "nbformat_minor": 0,
  "metadata": {
    "colab": {
      "provenance": []
    },
    "kernelspec": {
      "name": "python3",
      "display_name": "Python 3"
    },
    "language_info": {
      "name": "python"
    }
  },
  "cells": [
    {
      "cell_type": "markdown",
      "source": [
        "# **Games with AVG starting player valuations**"
      ],
      "metadata": {
        "id": "cYVSwQu_scsR"
      }
    },
    {
      "cell_type": "code",
      "source": [
        "import pandas as pd\n",
        "valuations = pd.read_csv(\"player_valuations.csv\")\n",
        "valuations[\"date\"] = pd.to_datetime(valuations.date)\n",
        "valuations[\"season\"] = valuations.apply(lambda x: x.date.year, axis=1)\n",
        "valuations = valuations.groupby([\"player_id\", \"season\"]).max(\"market_value_in_eur\").reset_index()\n",
        "valuations = valuations[[\"player_id\", \"market_value_in_eur\", \"season\"]]\n",
        "\n",
        "games = pd.read_csv(\"games.csv\")\n",
        "games = games[[\n",
        "    \"game_id\", \"season\", \"home_club_id\", \"away_club_id\",\n",
        "    \"home_club_goals\", \"away_club_goals\", \"home_club_position\",\n",
        "    \"away_club_position\"\n",
        "]]\n",
        "\n",
        "game_lineups = pd.read_csv(\"game_lineups.csv\")\n",
        "game_lineups = game_lineups[game_lineups[\"type\"] == \"starting_lineup\"]\n",
        "game_lineups = game_lineups[[\"game_id\", \"club_id\", \"player_id\"]]"
      ],
      "metadata": {
        "id": "FkkUfwFWse4A"
      },
      "execution_count": 172,
      "outputs": []
    },
    {
      "cell_type": "code",
      "source": [
        "df = games.merge(game_lineups, on=\"game_id\").merge(valuations, on=[\"player_id\", \"season\"])\n",
        "market_values = df.groupby([\"game_id\", \"club_id\"])[[\"market_value_in_eur\"]].mean().reset_index()"
      ],
      "metadata": {
        "id": "ybmSSSDzuYN9"
      },
      "execution_count": 173,
      "outputs": []
    },
    {
      "cell_type": "code",
      "source": [
        "df = games.merge(market_values, left_on=[\"game_id\", \"home_club_id\"],\n",
        "                 right_on=[\"game_id\", \"club_id\"], suffixes=[\"\", \"_\"])\n",
        "df = df[[\n",
        "    \"game_id\", \"season\", \"home_club_id\", \"away_club_id\", \"home_club_position\",\n",
        "    \"away_club_position\", \"home_club_goals\",\n",
        "    \"away_club_goals\", \"market_value_in_eur\"\n",
        "]]\n",
        "\n",
        "df.columns = [\n",
        "    \"game_id\", \"season\", \"home_club_id\", \"away_club_id\", \"home_club_position\",\n",
        "    \"away_club_position\", \"home_club_goals\",\n",
        "    \"away_club_goals\", \"home_avg_market_value\"\n",
        "]\n",
        "\n",
        "df = df.merge(market_values, left_on=[\"game_id\", \"away_club_id\"],\n",
        "              right_on=[\"game_id\", \"club_id\"], suffixes=[\"\", \"_\"])\n",
        "df = df[[\n",
        "    \"game_id\", \"season\", \"home_club_id\", \"away_club_id\", \"home_club_position\",\n",
        "    \"away_club_position\", \"home_club_goals\",\n",
        "    \"away_club_goals\", \"home_avg_market_value\", \"market_value_in_eur\"\n",
        "]]\n",
        "\n",
        "df.columns = [\n",
        "    \"game_id\", \"season\", \"home_club_id\", \"away_club_id\", \"home_club_position\",\n",
        "    \"away_club_position\", \"home_club_goals\",\n",
        "    \"away_club_goals\", \"home_avg_market_value\", \"away_avg_market_value\"\n",
        "]"
      ],
      "metadata": {
        "id": "StO2W1AJzBJT"
      },
      "execution_count": 174,
      "outputs": []
    },
    {
      "cell_type": "code",
      "source": [
        "def result(data):\n",
        "  home=data[\"home_club_goals\"]\n",
        "  away=data[\"away_club_goals\"]\n",
        "  if home > away:\n",
        "    val = 1\n",
        "  elif home == away:\n",
        "    val = 0\n",
        "  elif home < away:\n",
        "    val = -1\n",
        "  return val\n",
        "\n",
        "df[\"result\"] = df.apply(result, axis=1)\n",
        "df[\"goal_dif\"] = df[\"home_club_goals\"] - df[\"away_club_goals\"]"
      ],
      "metadata": {
        "id": "7IPBaoG_5VkD"
      },
      "execution_count": 175,
      "outputs": []
    },
    {
      "cell_type": "markdown",
      "source": [
        "# **Baseline**"
      ],
      "metadata": {
        "id": "pyA0Db--75eD"
      }
    },
    {
      "cell_type": "markdown",
      "source": [
        "# SVM"
      ],
      "metadata": {
        "id": "LUu4iUhtA0Zo"
      }
    },
    {
      "cell_type": "code",
      "source": [
        "import numpy as np\n",
        "from sklearn.pipeline import make_pipeline\n",
        "from sklearn.preprocessing import StandardScaler\n",
        "from sklearn import metrics\n",
        "from sklearn.model_selection import train_test_split\n",
        "from sklearn.svm import SVC"
      ],
      "metadata": {
        "id": "q7tnymAW79qz"
      },
      "execution_count": 178,
      "outputs": []
    },
    {
      "cell_type": "code",
      "source": [
        "df = df.dropna()"
      ],
      "metadata": {
        "id": "WPZDt5mZ-q3-"
      },
      "execution_count": 179,
      "outputs": []
    },
    {
      "cell_type": "code",
      "source": [
        "X = df[[\"home_avg_market_value\", \"away_avg_market_value\",\n",
        "        \"home_club_position\",\t\"away_club_position\"]].to_numpy()\n",
        "y = df[\"result\"]\n",
        "X_train, X_test, y_train, y_test = train_test_split(X, y, test_size=0.2, stratify=y)"
      ],
      "metadata": {
        "id": "HiGcaOUQ52fE"
      },
      "execution_count": 226,
      "outputs": []
    },
    {
      "cell_type": "code",
      "source": [
        "clf = make_pipeline(StandardScaler(), SVC(kernel=\"rbf\"))\n",
        "clf.fit(X_train, y_train)\n",
        "y_pred = clf.predict(X_test)\n",
        "print(\"Accuracy:\", metrics.accuracy_score(y_test, y_pred))"
      ],
      "metadata": {
        "colab": {
          "base_uri": "https://localhost:8080/"
        },
        "id": "R6eG9-LN7jvo",
        "outputId": "76ddf899-b501-4d30-9b53-bd07bf16382f"
      },
      "execution_count": 227,
      "outputs": [
        {
          "output_type": "stream",
          "name": "stdout",
          "text": [
            "Accuracy: 0.6732673267326733\n"
          ]
        }
      ]
    },
    {
      "cell_type": "code",
      "source": [
        "pd.DataFrame(y_pred).value_counts()"
      ],
      "metadata": {
        "colab": {
          "base_uri": "https://localhost:8080/"
        },
        "id": "MJwfO0IJ_TUz",
        "outputId": "508076fe-251a-4958-d0c7-c33cb42a161c"
      },
      "execution_count": 228,
      "outputs": [
        {
          "output_type": "execute_result",
          "data": {
            "text/plain": [
              " 1    101\n",
              "-1     75\n",
              " 0     26\n",
              "dtype: int64"
            ]
          },
          "metadata": {},
          "execution_count": 228
        }
      ]
    },
    {
      "cell_type": "code",
      "source": [
        "cm = metrics.confusion_matrix(y_pred, y_test)\n",
        "cm_display = metrics.ConfusionMatrixDisplay(cm).plot()"
      ],
      "metadata": {
        "colab": {
          "base_uri": "https://localhost:8080/",
          "height": 449
        },
        "id": "_4Ma2JP0_9I9",
        "outputId": "40ed04ec-ea5e-4287-ab22-39b6f3d8ffa6"
      },
      "execution_count": 229,
      "outputs": [
        {
          "output_type": "display_data",
          "data": {
            "text/plain": [
              "<Figure size 640x480 with 2 Axes>"
            ],
            "image/png": "[encoded data removed]"
          },
          "metadata": {}
        }
      ]
    },
    {
      "cell_type": "markdown",
      "source": [
        "# NN"
      ],
      "metadata": {
        "id": "9AwN87OTA4eE"
      }
    },
    {
      "cell_type": "code",
      "source": [
        "from keras.models import Sequential\n",
        "from keras.layers import Dense\n",
        "from keras.optimizers import Adam\n",
        "from sklearn.metrics import classification_report"
      ],
      "metadata": {
        "id": "pjQKooACBa9f"
      },
      "execution_count": 213,
      "outputs": []
    },
    {
      "cell_type": "code",
      "source": [
        "X = df[[\"home_avg_market_value\", \"away_avg_market_value\",\n",
        "        \"home_club_position\",\t\"away_club_position\"]].to_numpy()\n",
        "y = df[\"goal_dif\"]\n",
        "X_train, X_test, y_train, y_test = train_test_split(X, y, test_size=0.2)"
      ],
      "metadata": {
        "id": "EntouYbpC_p_"
      },
      "execution_count": 231,
      "outputs": []
    },
    {
      "cell_type": "code",
      "source": [
        "def TrainMLP(X, y, layers, activation=\"tanh\",\n",
        "             lr=0.01, epochs=20):\n",
        "  model = Sequential()\n",
        "  for units in layers:\n",
        "    model.add(Dense(units, activation=activation))\n",
        "  model.add(Dense(1, activation=\"linear\"))\n",
        "  model.compile(optimizer=Adam(learning_rate=lr), loss=\"mse\")\n",
        "  model.fit(X, y, epochs=epochs, validation_split=0.2,\n",
        "            batch_size=round(len(X)/10), verbose=1)\n",
        "  return model"
      ],
      "metadata": {
        "id": "a3DNn-AxAGrQ"
      },
      "execution_count": 233,
      "outputs": []
    },
    {
      "cell_type": "code",
      "source": [
        "layers = [20, 6, 4]\n",
        "model = TrainMLP(X_train, y_train, layers=layers)"
      ],
      "metadata": {
        "id": "u_P6l1MNBgnv"
      },
      "execution_count": null,
      "outputs": []
    },
    {
      "cell_type": "code",
      "source": [
        "y_train_pred = model(X_train).numpy()\n",
        "y_val_pred = model(X_test).numpy()"
      ],
      "metadata": {
        "id": "g_IqKzD_BpqS"
      },
      "execution_count": 236,
      "outputs": []
    },
    {
      "cell_type": "code",
      "source": [],
      "metadata": {
        "id": "OfdqjH2JCDdF"
      },
      "execution_count": null,
      "outputs": []
    }
  ]
}