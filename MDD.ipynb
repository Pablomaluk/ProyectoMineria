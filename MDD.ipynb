{
  "nbformat": 4,
  "nbformat_minor": 0,
  "metadata": {
    "colab": {
      "provenance": []
    },
    "kernelspec": {
      "name": "python3",
      "display_name": "Python 3"
    },
    "language_info": {
      "name": "python"
    }
  },
  "cells": [
    {
      "cell_type": "markdown",
      "source": [
        "# **Games with AVG starting player valuations**"
      ],
      "metadata": {
        "id": "cYVSwQu_scsR"
      }
    },
    {
      "cell_type": "code",
      "source": [
        "import pandas as pd\n",
        "valuations = pd.read_csv(\"player_valuations.csv\")\n",
        "valuations[\"date\"] = pd.to_datetime(valuations.date)\n",
        "valuations[\"season\"] = valuations.apply(lambda x: x.date.year, axis=1)\n",
        "valuations = valuations.groupby([\"player_id\", \"season\"]).max(\"market_value_in_eur\").reset_index()\n",
        "valuations = valuations[[\"player_id\", \"market_value_in_eur\", \"season\"]]\n",
        "\n",
        "games = pd.read_csv(\"games.csv\")\n",
        "games = games[[\n",
        "    \"game_id\", \"season\", \"home_club_id\", \"away_club_id\",\n",
        "    \"home_club_goals\", \"away_club_goals\", \"home_club_position\",\n",
        "    \"away_club_position\"\n",
        "]]\n",
        "\n",
        "game_lineups = pd.read_csv(\"game_lineups.csv\")\n",
        "game_lineups = game_lineups[game_lineups[\"type\"] == \"starting_lineup\"]\n",
        "game_lineups = game_lineups[[\"game_id\", \"club_id\", \"player_id\"]]"
      ],
      "metadata": {
        "id": "FkkUfwFWse4A"
      },
      "execution_count": 172,
      "outputs": []
    },
    {
      "cell_type": "code",
      "source": [
        "df = games.merge(game_lineups, on=\"game_id\").merge(valuations, on=[\"player_id\", \"season\"])\n",
        "market_values = df.groupby([\"game_id\", \"club_id\"])[[\"market_value_in_eur\"]].mean().reset_index()"
      ],
      "metadata": {
        "id": "ybmSSSDzuYN9"
      },
      "execution_count": 173,
      "outputs": []
    },
    {
      "cell_type": "code",
      "source": [
        "df = games.merge(market_values, left_on=[\"game_id\", \"home_club_id\"],\n",
        "                 right_on=[\"game_id\", \"club_id\"], suffixes=[\"\", \"_\"])\n",
        "df = df[[\n",
        "    \"game_id\", \"season\", \"home_club_id\", \"away_club_id\", \"home_club_position\",\n",
        "    \"away_club_position\", \"home_club_goals\",\n",
        "    \"away_club_goals\", \"market_value_in_eur\"\n",
        "]]\n",
        "\n",
        "df.columns = [\n",
        "    \"game_id\", \"season\", \"home_club_id\", \"away_club_id\", \"home_club_position\",\n",
        "    \"away_club_position\", \"home_club_goals\",\n",
        "    \"away_club_goals\", \"home_avg_market_value\"\n",
        "]\n",
        "\n",
        "df = df.merge(market_values, left_on=[\"game_id\", \"away_club_id\"],\n",
        "              right_on=[\"game_id\", \"club_id\"], suffixes=[\"\", \"_\"])\n",
        "df = df[[\n",
        "    \"game_id\", \"season\", \"home_club_id\", \"away_club_id\", \"home_club_position\",\n",
        "    \"away_club_position\", \"home_club_goals\",\n",
        "    \"away_club_goals\", \"home_avg_market_value\", \"market_value_in_eur\"\n",
        "]]\n",
        "\n",
        "df.columns = [\n",
        "    \"game_id\", \"season\", \"home_club_id\", \"away_club_id\", \"home_club_position\",\n",
        "    \"away_club_position\", \"home_club_goals\",\n",
        "    \"away_club_goals\", \"home_avg_market_value\", \"away_avg_market_value\"\n",
        "]"
      ],
      "metadata": {
        "id": "StO2W1AJzBJT"
      },
      "execution_count": 174,
      "outputs": []
    },
    {
      "cell_type": "code",
      "source": [
        "def result(data):\n",
        "  home=data[\"home_club_goals\"]\n",
        "  away=data[\"away_club_goals\"]\n",
        "  if home > away:\n",
        "    val = 1\n",
        "  elif home == away:\n",
        "    val = 0\n",
        "  elif home < away:\n",
        "    val = -1\n",
        "  return val\n",
        "\n",
        "df[\"result\"] = df.apply(result, axis=1)\n",
        "df[\"goal_dif\"] = df[\"home_club_goals\"] - df[\"away_club_goals\"]"
      ],
      "metadata": {
        "id": "7IPBaoG_5VkD"
      },
      "execution_count": 175,
      "outputs": []
    },
    {
      "cell_type": "markdown",
      "source": [
        "# **Baseline**"
      ],
      "metadata": {
        "id": "pyA0Db--75eD"
      }
    },
    {
      "cell_type": "code",
      "source": [
        "import numpy as np\n",
        "from sklearn.pipeline import make_pipeline\n",
        "from sklearn.preprocessing import StandardScaler\n",
        "from sklearn import metrics\n",
        "from sklearn.model_selection import train_test_split\n",
        "from sklearn.svm import SVC"
      ],
      "metadata": {
        "id": "q7tnymAW79qz"
      },
      "execution_count": 178,
      "outputs": []
    },
    {
      "cell_type": "code",
      "source": [
        "df = df.dropna()"
      ],
      "metadata": {
        "id": "WPZDt5mZ-q3-"
      },
      "execution_count": 179,
      "outputs": []
    },
    {
      "cell_type": "code",
      "source": [
        "X = df[[\"home_avg_market_value\", \"away_avg_market_value\"]].to_numpy()\n",
        "y = df[\"result\"]\n",
        "X_train, X_test, y_train, y_test = train_test_split(X, y, test_size=0.2, stratify=y)"
      ],
      "metadata": {
        "id": "HiGcaOUQ52fE"
      },
      "execution_count": 180,
      "outputs": []
    },
    {
      "cell_type": "code",
      "source": [
        "clf = make_pipeline(StandardScaler(), SVC(kernel=\"rbf\"))\n",
        "clf.fit(X_train, y_train)\n",
        "y_pred = clf.predict(X_test)\n",
        "print(\"Accuracy:\", metrics.accuracy_score(y_test, y_pred))"
      ],
      "metadata": {
        "colab": {
          "base_uri": "https://localhost:8080/"
        },
        "id": "R6eG9-LN7jvo",
        "outputId": "69664035-a13d-4482-c200-aaa548fdc58c"
      },
      "execution_count": 207,
      "outputs": [
        {
          "output_type": "stream",
          "name": "stdout",
          "text": [
            "Accuracy: 0.48514851485148514\n"
          ]
        }
      ]
    },
    {
      "cell_type": "code",
      "source": [
        "pd.DataFrame(y_pred).value_counts()"
      ],
      "metadata": {
        "colab": {
          "base_uri": "https://localhost:8080/"
        },
        "id": "MJwfO0IJ_TUz",
        "outputId": "9cbfd9c0-a05b-492d-fb18-d82618e05af7"
      },
      "execution_count": 208,
      "outputs": [
        {
          "output_type": "execute_result",
          "data": {
            "text/plain": [
              " 1    131\n",
              "-1     68\n",
              " 0      3\n",
              "dtype: int64"
            ]
          },
          "metadata": {},
          "execution_count": 208
        }
      ]
    },
    {
      "cell_type": "code",
      "source": [
        "cm = metrics.confusion_matrix(y_pred, y_test)\n",
        "cm_display = metrics.ConfusionMatrixDisplay(cm).plot()"
      ],
      "metadata": {
        "colab": {
          "base_uri": "https://localhost:8080/",
          "height": 449
        },
        "id": "_4Ma2JP0_9I9",
        "outputId": "fc9c5f85-6fa7-4514-f74f-3f7ce288a97a"
      },
      "execution_count": 209,
      "outputs": [
        {
          "output_type": "display_data",
          "data": {
            "text/plain": [
              "<Figure size 640x480 with 2 Axes>"
            ],
            "image/png": "[encoded data removed]"
          },
          "metadata": {}
        }
      ]
    },
    {
      "cell_type": "code",
      "source": [],
      "metadata": {
        "id": "a3DNn-AxAGrQ"
      },
      "execution_count": null,
      "outputs": []
    }
  ]
}