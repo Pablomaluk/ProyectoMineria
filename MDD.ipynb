{
  "nbformat": 4,
  "nbformat_minor": 0,
  "metadata": {
    "colab": {
      "provenance": [],
      "collapsed_sections": [
        "cYVSwQu_scsR",
        "6FcsUTuzPwt-",
        "3S4QGVm3cpzy",
        "d2aawaMxaqCP",
        "pyA0Db--75eD",
        "ElM_Fj2qKeI8",
        "LUu4iUhtA0Zo"
      ]
    },
    "kernelspec": {
      "name": "python3",
      "display_name": "Python 3"
    },
    "language_info": {
      "name": "python"
    }
  },
  "cells": [
    {
      "cell_type": "markdown",
      "source": [
        "# **Import Datasets**"
      ],
      "metadata": {
        "id": "X61_5KjHP33v"
      }
    },
    {
      "cell_type": "code",
      "source": [
        "import pandas as pd\n",
        "import numpy as np\n",
        "\n",
        "valuations = pd.read_csv(\"player_valuations.csv\")\n",
        "games = pd.read_csv(\"games.csv\")\n",
        "game_lineups = pd.read_csv(\"game_lineups.csv\")\n",
        "club_games = pd.read_csv(\"club_games.csv\")\n",
        "players = pd.read_csv(\"players.csv\")\n",
        "clubs = pd.read_csv(\"clubs.csv\")\n",
        "events = pd.read_csv(\"game_events.csv\")"
      ],
      "metadata": {
        "id": "nuWT6yOhP7G_"
      },
      "execution_count": 683,
      "outputs": []
    },
    {
      "cell_type": "code",
      "source": [
        "valuations[\"date\"] = pd.to_datetime(valuations.date)\n",
        "valuations[\"season\"] = valuations.apply(lambda x: x.date.year, axis=1)\n",
        "valuations = valuations.groupby([\"player_id\", \"season\"]).max(\"market_value_in_eur\").reset_index()\n",
        "valuations = valuations[[\"player_id\", \"market_value_in_eur\", \"season\"]]\n",
        "\n",
        "games = games[[\n",
        "    \"game_id\", \"season\", \"home_club_id\", \"away_club_id\",\n",
        "    \"home_club_goals\", \"away_club_goals\", \"home_club_position\",\n",
        "    \"away_club_position\", \"date\", \"attendance\"\n",
        "]]\n",
        "\n",
        "game_lineups = game_lineups[game_lineups[\"type\"] == \"starting_lineup\"]\n",
        "game_lineups = game_lineups[[\"game_id\", \"club_id\", \"player_id\"]]\n",
        "\n",
        "club_games = club_games[[\n",
        "    \"game_id\", \"club_id\", \"own_goals\", \"own_position\", \"own_manager_name\",\n",
        "    \"opponent_goals\",\t\"opponent_position\", \"opponent_manager_name\", \"hosting\"\n",
        "]]\n",
        "\n",
        "players = players[[\"player_id\", \"height_in_cm\"]]\n",
        "players.columns = [\"player_id\", \"height\"]\n",
        "\n",
        "clubs = clubs[[\"club_id\", \"stadium_seats\"]]\n",
        "\n",
        "events = events[[\"game_id\", \"club_id\", \"type\"]]"
      ],
      "metadata": {
        "id": "eu9r9yUDQAH2"
      },
      "execution_count": 684,
      "outputs": []
    },
    {
      "cell_type": "code",
      "source": [
        "def result(data, home_goals=\"home_club_goals\", away_goals=\"away_club_goals\"):\n",
        "  home=data[home_goals]\n",
        "  away=data[away_goals]\n",
        "  if home > away:\n",
        "    val = 1\n",
        "  elif home == away:\n",
        "    val = 0\n",
        "  elif home < away:\n",
        "    val = -1\n",
        "  return val"
      ],
      "metadata": {
        "id": "7IPBaoG_5VkD"
      },
      "execution_count": 685,
      "outputs": []
    },
    {
      "cell_type": "code",
      "source": [
        "def difference(data):\n",
        "  home = data[\"home_club_goals\"]\n",
        "  away = data[\"away_club_goals\"]\n",
        "  difference = home - away\n",
        "  return difference"
      ],
      "metadata": {
        "id": "KtVflgx1U00l"
      },
      "execution_count": 686,
      "outputs": []
    },
    {
      "cell_type": "code",
      "source": [
        "games = games.drop(games[games[\"home_club_goals\"].isna()].index)\n",
        "games = games.drop(games[games[\"away_club_goals\"].isna()].index)\n",
        "games[\"result\"] = games.apply(result, axis=1)\n",
        "games[\"difference\"] = games.apply(difference, axis=1)"
      ],
      "metadata": {
        "id": "MRagJlssM_vQ"
      },
      "execution_count": 687,
      "outputs": []
    },
    {
      "cell_type": "code",
      "source": [
        "df = games.copy()"
      ],
      "metadata": {
        "id": "34C6qG_1VOYX"
      },
      "execution_count": 697,
      "outputs": []
    },
    {
      "cell_type": "markdown",
      "source": [
        "# **Games with AVG starting player valuations**"
      ],
      "metadata": {
        "id": "cYVSwQu_scsR"
      }
    },
    {
      "cell_type": "code",
      "source": [
        "market_values = df.merge(game_lineups, on=\"game_id\").merge(valuations, on=[\"player_id\", \"season\"])\n",
        "market_values = market_values.groupby([\"game_id\", \"club_id\"])[[\"market_value_in_eur\"]].mean().reset_index()"
      ],
      "metadata": {
        "id": "ybmSSSDzuYN9"
      },
      "execution_count": 508,
      "outputs": []
    },
    {
      "cell_type": "code",
      "source": [
        "columns = list(games.columns)\n",
        "\n",
        "df = df.merge(market_values, left_on=[\"game_id\", \"home_club_id\"], how=\"left\",\n",
        "                 right_on=[\"game_id\", \"club_id\"], suffixes=[\"\", \"_\"])\n",
        "df[\"home_avg_market_value\"] = df[\"market_value_in_eur\"]\n",
        "columns.append(\"home_avg_market_value\")\n",
        "df = df[columns]\n",
        "\n",
        "df = df.merge(market_values, left_on=[\"game_id\", \"away_club_id\"], how=\"left\",\n",
        "              right_on=[\"game_id\", \"club_id\"], suffixes=[\"\", \"_\"])\n",
        "df[\"away_avg_market_value\"] = df[\"market_value_in_eur\"]\n",
        "columns.append(\"away_avg_market_value\")\n",
        "df = df[columns]"
      ],
      "metadata": {
        "id": "StO2W1AJzBJT"
      },
      "execution_count": 538,
      "outputs": []
    },
    {
      "cell_type": "markdown",
      "source": [
        "# **Lineup Heights**"
      ],
      "metadata": {
        "id": "6FcsUTuzPwt-"
      }
    },
    {
      "cell_type": "code",
      "source": [
        "player_heights = game_lineups.merge(players, on='player_id')\n",
        "player_heights = player_heights.groupby([\"game_id\", \"club_id\"])[[\"height\"]].mean().reset_index()"
      ],
      "metadata": {
        "id": "mUBspAXOPhBd"
      },
      "execution_count": 512,
      "outputs": []
    },
    {
      "cell_type": "code",
      "source": [
        "columns = list(df.columns)\n",
        "df = df.merge(player_heights, left_on=[\"game_id\", \"home_club_id\"],\n",
        "         right_on=[\"game_id\", \"club_id\"], how=\"left\")\n",
        "\n",
        "df[\"home_height\"] = df[\"height\"]\n",
        "columns.append(\"home_height\")\n",
        "df = df[columns]\n",
        "\n",
        "df = df.merge(player_heights, left_on=[\"game_id\", \"away_club_id\"],\n",
        "         right_on=[\"game_id\", \"club_id\"], how=\"left\")\n",
        "\n",
        "df[\"away_height\"] = df[\"height\"]\n",
        "columns.append(\"away_height\")\n",
        "df = df[columns]"
      ],
      "metadata": {
        "id": "7eEMBbR_KFYA"
      },
      "execution_count": 541,
      "outputs": []
    },
    {
      "cell_type": "markdown",
      "source": [
        "# **Past Games**"
      ],
      "metadata": {
        "id": "3S4QGVm3cpzy"
      }
    },
    {
      "cell_type": "code",
      "source": [
        "def last_results_result(data):\n",
        "  return result(data, home_goals=\"goals_for\", away_goals=\"goals_against\")"
      ],
      "metadata": {
        "id": "FWO2Hrgl6RS-"
      },
      "execution_count": 516,
      "outputs": []
    },
    {
      "cell_type": "code",
      "source": [
        "def calculate_last_results(data, results_list, prefix=\"\", game_count=5):\n",
        "  for (index, row) in data.iterrows():\n",
        "    last_games = data[data[\"date\"] < row[\"date\"]].head(game_count)\n",
        "    if len(last_games) < 2:\n",
        "      return\n",
        "    game_dict = {}\n",
        "    game_dict[\"game_id\"] = row[\"game_id\"]\n",
        "    game_dict[\"club_id\"] = row[\"club_id\"]\n",
        "    game_dict[f\"{prefix}last_{game_count}_goals_for_avg\"] = last_games[\"goals_for\"].mean()\n",
        "    game_dict[f\"{prefix}last_{game_count}_goals_against_avg\"] = last_games[\"goals_against\"].mean()\n",
        "    game_dict[f\"{prefix}last_{game_count}_wins\"] = len(last_games[last_games[\"result\"] == 1])/len(last_games)\n",
        "    game_dict[f\"{prefix}last_{game_count}_ties\"] = len(last_games[last_games[\"result\"] == 0])/len(last_games)\n",
        "    game_dict[f\"{prefix}last_{game_count}_losses\"] = len(last_games[last_games[\"result\"] == -1])/len(last_games)\n",
        "    results_list.append(game_dict)"
      ],
      "metadata": {
        "id": "im6gWN1XfJh7"
      },
      "execution_count": 517,
      "outputs": []
    },
    {
      "cell_type": "code",
      "source": [
        "home_results = games.copy()[\n",
        "    [\"game_id\", \"season\", \"date\", \"home_club_id\", \"home_club_goals\", \"away_club_goals\"]]\n",
        "home_results.columns = [\"game_id\", \"season\", \"date\", \"club_id\",\n",
        "                        \"goals_for\", \"goals_against\"]\n",
        "home_results = home_results.dropna(axis=0).dropna(axis=1)\n",
        "home_results = home_results.sort_values(by=\"date\", ascending=False)\n",
        "\n",
        "away_results = games.copy()[\n",
        "    [\"game_id\", \"season\", \"date\", \"away_club_id\", \"home_club_goals\", \"away_club_goals\"]]\n",
        "\n",
        "away_results.columns = [\"game_id\", \"season\", \"date\", \"club_id\",\n",
        "                        \"goals_against\", \"goals_for\"]\n",
        "away_results = away_results.dropna(axis=0).dropna(axis=1)\n",
        "away_results = away_results.sort_values(by=\"date\", ascending=False)"
      ],
      "metadata": {
        "id": "xjvWNwJndUJJ"
      },
      "execution_count": 518,
      "outputs": []
    },
    {
      "cell_type": "code",
      "source": [
        "home_results[\"result\"] = home_results.apply(last_results_result, axis=1)\n",
        "away_results[\"result\"] = away_results.apply(last_results_result, axis=1)\n",
        "all_results = pd.concat([home_results, away_results]).sort_values(by=\"date\", ascending=False)"
      ],
      "metadata": {
        "id": "v6kIhRLvnCrc"
      },
      "execution_count": 519,
      "outputs": []
    },
    {
      "cell_type": "code",
      "source": [
        "all_last_5 = []\n",
        "all_results.groupby([\"club_id\", \"season\"]).apply(\n",
        "    calculate_last_results, all_last_5)\n",
        "all_last_5 = pd.DataFrame(all_last_5)"
      ],
      "metadata": {
        "id": "K8ci2KgY6gGD"
      },
      "execution_count": 520,
      "outputs": []
    },
    {
      "cell_type": "code",
      "source": [
        "df = df.merge(all_last_5, left_on=[\"game_id\", \"home_club_id\"], how=\"left\",\n",
        "         right_on=[\"game_id\", \"club_id\"]).drop(columns=\"club_id\")\n",
        "\n",
        "df = df.merge(all_last_5, left_on=[\"game_id\", \"away_club_id\"], how=\"left\",\n",
        "         right_on=[\"game_id\", \"club_id\"],\n",
        "         suffixes=[\"_home\", \"_away\"]\n",
        ").drop(columns=\"club_id\")"
      ],
      "metadata": {
        "id": "BSziU76MKPaV"
      },
      "execution_count": 544,
      "outputs": []
    },
    {
      "cell_type": "code",
      "source": [
        "local_last_4 = []\n",
        "home_results.groupby([\"club_id\", \"season\"]).apply(\n",
        "    calculate_last_results, local_last_4, prefix=\"home_local_\", game_count=3)\n",
        "local_last_4 = pd.DataFrame(local_last_4)\n",
        "\n",
        "\n",
        "visiting_last_4 = []\n",
        "away_results.groupby([\"club_id\", \"season\"]).apply(\n",
        "    calculate_last_results, visiting_last_4, prefix=\"away_visiting_\", game_count=3)\n",
        "visiting_last_4 = pd.DataFrame(visiting_last_4)"
      ],
      "metadata": {
        "id": "rcMQaTtiDk5A"
      },
      "execution_count": 524,
      "outputs": []
    },
    {
      "cell_type": "code",
      "source": [
        "df = df.merge(local_last_4, left_on=[\"game_id\", \"home_club_id\"], how=\"left\",\n",
        "         right_on=[\"game_id\", \"club_id\"]).drop(columns=\"club_id\")\n",
        "\n",
        "df = df.merge(visiting_last_4, left_on=[\"game_id\", \"away_club_id\"], how=\"left\",\n",
        "         right_on=[\"game_id\", \"club_id\"]).drop(columns=\"club_id\")"
      ],
      "metadata": {
        "id": "OkPFVXLzKQvV"
      },
      "execution_count": 547,
      "outputs": []
    },
    {
      "cell_type": "markdown",
      "source": [
        "# **Stadium Size**"
      ],
      "metadata": {
        "id": "d2aawaMxaqCP"
      }
    },
    {
      "cell_type": "code",
      "source": [
        "def get_attendance(data):\n",
        "  if (pd.isna(data[\"attendance\"]) and pd.isna(data[\"stadium_seats\"])):\n",
        "    return np.nan\n",
        "  elif (pd.notna(data[\"attendance\"])):\n",
        "    return data[\"attendance\"]\n",
        "  elif (pd.notna(data[\"stadium_seats\"])):\n",
        "    return data[\"stadium_seats\"]"
      ],
      "metadata": {
        "id": "hmowHXPxd-kK"
      },
      "execution_count": 575,
      "outputs": []
    },
    {
      "cell_type": "code",
      "source": [
        "df = df.merge(clubs, left_on=\"home_club_id\", right_on=\"club_id\", how=\"left\")\n",
        "df = df.drop(columns=\"club_id\")"
      ],
      "metadata": {
        "id": "IUMkp873as1j"
      },
      "execution_count": 553,
      "outputs": []
    },
    {
      "cell_type": "code",
      "source": [
        "df[\"attendance\"] = df.apply(get_attendance, axis=1)\n",
        "df = df.drop(columns=\"stadium_seats\")"
      ],
      "metadata": {
        "id": "sIzvoSXofWSM"
      },
      "execution_count": 579,
      "outputs": []
    },
    {
      "cell_type": "markdown",
      "source": [
        "# **Events**"
      ],
      "metadata": {
        "id": "NDmJYeUYpCI7"
      }
    },
    {
      "cell_type": "code",
      "source": [
        "subs = events[events[\"type\"] == \"Substitutions\"]\n",
        "cards = events[events[\"type\"] == \"Cards\"]"
      ],
      "metadata": {
        "id": "LHjwHHy2sX6D"
      },
      "execution_count": 677,
      "outputs": []
    },
    {
      "cell_type": "code",
      "source": [
        "subs = subs.groupby([\"game_id\", \"club_id\"]).count().reset_index()\n",
        "subs.columns = [\"game_id\", \"club_id\", \"subs\"]"
      ],
      "metadata": {
        "id": "grZ-xK8XroV0"
      },
      "execution_count": 678,
      "outputs": []
    },
    {
      "cell_type": "code",
      "source": [
        "cards = cards.groupby([\"game_id\", \"club_id\"]).count().reset_index()\n",
        "cards.columns = [\"game_id\", \"club_id\", \"cards\"]"
      ],
      "metadata": {
        "id": "QD0uoCkXs0jp"
      },
      "execution_count": 679,
      "outputs": []
    },
    {
      "cell_type": "code",
      "source": [
        "columns = list(df.columns)\n",
        "df = df.merge(subs, left_on=[\"game_id\", \"home_club_id\"],\n",
        "         right_on=[\"game_id\", \"club_id\"], how=\"left\")\n",
        "df = df.merge(subs, left_on=[\"game_id\", \"away_club_id\"],\n",
        "         right_on=[\"game_id\", \"club_id\"], how=\"left\", suffixes=[\"_home\", \"_away\"])\n",
        "columns += [\"subs_home\", \"subs_away\"]\n",
        "df = df[columns]\n",
        "\n",
        "df = df.merge(cards, left_on=[\"game_id\", \"home_club_id\"],\n",
        "         right_on=[\"game_id\", \"club_id\"], how=\"left\")\n",
        "df = df.merge(cards, left_on=[\"game_id\", \"away_club_id\"],\n",
        "         right_on=[\"game_id\", \"club_id\"], how=\"left\", suffixes=[\"_home\", \"_away\"])\n",
        "columns += [\"cards_home\", \"cards_away\"]\n",
        "df = df[columns]"
      ],
      "metadata": {
        "id": "dXiZCB7xs-Yy"
      },
      "execution_count": 698,
      "outputs": []
    },
    {
      "cell_type": "code",
      "source": [
        "df[\"subs_home\"].replace(np.nan, 0, inplace=True)\n",
        "df[\"subs_away\"].replace(np.nan, 0, inplace=True)\n",
        "df[\"cards_home\"].replace(np.nan, 0, inplace=True)\n",
        "df[\"cards_away\"].replace(np.nan, 0, inplace=True)"
      ],
      "metadata": {
        "id": "OH8Pv6BJuBez"
      },
      "execution_count": 703,
      "outputs": []
    },
    {
      "cell_type": "markdown",
      "source": [
        "# **Results**"
      ],
      "metadata": {
        "id": "pyA0Db--75eD"
      }
    },
    {
      "cell_type": "code",
      "source": [
        "from sklearn.pipeline import make_pipeline\n",
        "from sklearn.preprocessing import StandardScaler\n",
        "from sklearn import metrics\n",
        "from sklearn.model_selection import train_test_split\n",
        "from sklearn.svm import SVC"
      ],
      "metadata": {
        "id": "q7tnymAW79qz"
      },
      "execution_count": 345,
      "outputs": []
    },
    {
      "cell_type": "markdown",
      "source": [
        "# **SVM with only positions**"
      ],
      "metadata": {
        "id": "ElM_Fj2qKeI8"
      }
    },
    {
      "cell_type": "code",
      "source": [
        "games = games.dropna()\n",
        "games[\"result\"] = games.apply(result, axis=1)"
      ],
      "metadata": {
        "id": "gF7tuyHyMUME"
      },
      "execution_count": null,
      "outputs": []
    },
    {
      "cell_type": "code",
      "source": [
        "X = games[[\n",
        "    \"home_club_position\", \"away_club_position\"\n",
        "]].to_numpy()\n",
        "y = games[\"result\"]\n",
        "X_train, X_test, y_train, y_test = train_test_split(\n",
        "    X, y, test_size=0.2, stratify=y)"
      ],
      "metadata": {
        "id": "NxLLP5gDIjmx"
      },
      "execution_count": null,
      "outputs": []
    },
    {
      "cell_type": "code",
      "source": [
        "clf = make_pipeline(StandardScaler(), SVC(kernel=\"rbf\"))\n",
        "clf.fit(X_train, y_train)"
      ],
      "metadata": {
        "id": "pA3zlGdtMl5s"
      },
      "execution_count": null,
      "outputs": []
    },
    {
      "cell_type": "code",
      "source": [
        "y_pred_train = clf.predict(X_train)\n",
        "y_pred_test = clf.predict(X_test)\n",
        "print(\"Train accuracy:\", metrics.accuracy_score(y_train, y_pred_train))\n",
        "print(\"Test accuracy:\", metrics.accuracy_score(y_test, y_pred_test))"
      ],
      "metadata": {
        "colab": {
          "base_uri": "https://localhost:8080/"
        },
        "id": "SLTY5Sf3P2o6",
        "outputId": "4d085f65-71da-49f4-b6be-5b27393c43fe"
      },
      "execution_count": null,
      "outputs": [
        {
          "output_type": "stream",
          "name": "stdout",
          "text": [
            "Train accuracy: 0.5893094289508632\n",
            "Test accuracy: 0.5903507801261481\n"
          ]
        }
      ]
    },
    {
      "cell_type": "code",
      "source": [
        "cm = metrics.confusion_matrix(y_pred, y_test)\n",
        "cm_display = metrics.ConfusionMatrixDisplay(cm, display_labels=[-1, 0, 1]).plot()"
      ],
      "metadata": {
        "colab": {
          "base_uri": "https://localhost:8080/",
          "height": 449
        },
        "id": "EWmNimdpKMCm",
        "outputId": "c310b4c8-a063-4ee6-ac1a-444db48e80e0"
      },
      "execution_count": null,
      "outputs": [
        {
          "output_type": "display_data",
          "data": {
            "text/plain": [
              "<Figure size 640x480 with 2 Axes>"
            ],
            "image/png": "[encoded data removed]"
          },
          "metadata": {}
        }
      ]
    },
    {
      "cell_type": "markdown",
      "source": [
        "# SVM"
      ],
      "metadata": {
        "id": "LUu4iUhtA0Zo"
      }
    },
    {
      "cell_type": "code",
      "source": [
        "irrelevant_columns = [\n",
        "    \"game_id\", \"season\", \"home_club_id\", \"away_club_id\",\n",
        "    \"home_club_goals\", \"away_club_goals\", \"date\"\n",
        "]\n",
        "df = df.drop(columns=irrelevant_columns)"
      ],
      "metadata": {
        "id": "UyjPL5N2dy2L"
      },
      "execution_count": 582,
      "outputs": []
    },
    {
      "cell_type": "code",
      "source": [
        "df.isnull().sum()"
      ],
      "metadata": {
        "id": "WGlK0Y9QZyJu"
      },
      "execution_count": null,
      "outputs": []
    },
    {
      "cell_type": "code",
      "source": [
        "position = [\"home_club_position\", \"away_club_position\"]\n",
        "attendance = [\"attendance\"]\n",
        "market_value = [\"home_avg_market_value\", \"away_avg_market_value\"]\n",
        "height = [\"home_height\", \"away_height\"]\n",
        "last_all = [\"last_5_goals_for_avg_home\", \"last_5_goals_against_avg_home\",\n",
        "            \"last_5_wins_home\", \"last_5_ties_home\", \"last_5_losses_home\",\n",
        "            \"last_5_goals_for_avg_away\", \"last_5_goals_against_avg_away\",\n",
        "            \"last_5_wins_away\", \"last_5_ties_away\", \"last_5_losses_away\"]\n",
        "last_same = [\"home_local_last_3_goals_for_avg\",\n",
        "             \"home_local_last_3_goals_against_avg\",\n",
        "             \"home_local_last_3_wins\", \"home_local_last_3_ties\",\n",
        "             \"home_local_last_3_losses\", \"away_visiting_last_3_goals_for_avg\",\n",
        "             \"away_visiting_last_3_goals_against_avg\",\n",
        "             \"away_visiting_last_3_wins\", \"away_visiting_last_3_ties\",\n",
        "             \"away_visiting_last_3_losses\"]\n",
        "result = [\"result\"]\n",
        "subs = [\"subs_home\", \"subs_away\"]\n",
        "cards = [\"cards_home\", \"cards_away\"]"
      ],
      "metadata": {
        "id": "psyDCcAFdzXe"
      },
      "execution_count": 614,
      "outputs": []
    },
    {
      "cell_type": "code",
      "source": [
        "keep_columns = position + market_value + result\n",
        "df_ = df[keep_columns].dropna()"
      ],
      "metadata": {
        "id": "q8V3YURgjFyz"
      },
      "execution_count": 640,
      "outputs": []
    },
    {
      "cell_type": "code",
      "source": [
        "df_.shape"
      ],
      "metadata": {
        "colab": {
          "base_uri": "https://localhost:8080/"
        },
        "id": "furIjpQ0kybb",
        "outputId": "afea8cb3-db8c-49c9-add3-456ea6175a78"
      },
      "execution_count": 641,
      "outputs": [
        {
          "output_type": "execute_result",
          "data": {
            "text/plain": [
              "(1007, 5)"
            ]
          },
          "metadata": {},
          "execution_count": 641
        }
      ]
    },
    {
      "cell_type": "code",
      "source": [
        "def train_svm(df_):\n",
        "  X = df_.drop(columns=[\"result\"]).to_numpy()\n",
        "  y = df_[\"result\"]\n",
        "  X_train, X_test, y_train, y_test = train_test_split(\n",
        "      X, y, test_size=0.2, stratify=y)\n",
        "  clf = make_pipeline(StandardScaler(), SVC(kernel=\"rbf\"))\n",
        "  clf.fit(X_train, y_train)\n",
        "  y_pred_train = clf.predict(X_train)\n",
        "  y_pred_test = clf.predict(X_test)\n",
        "  train_accuracy = metrics.accuracy_score(y_train, y_pred_train)\n",
        "  test_accuracy = metrics.accuracy_score(y_test, y_pred_test)\n",
        "  return train_accuracy, test_accuracy, y_test, y_pred_test\n",
        "\n",
        "def train_svms(df_, epochs):\n",
        "  train_accuracies = []\n",
        "  test_accuracies = []\n",
        "  y_tests = []\n",
        "  y_pred_tests = []\n",
        "  for i in range(epochs):\n",
        "    train_accuracy, test_accuracy, y_test, y_pred_test = train_svm(df_)\n",
        "    train_accuracies.append(train_accuracy)\n",
        "    test_accuracies.append(test_accuracy)\n",
        "    y_tests.append(y_test)\n",
        "    y_pred_tests.append(y_pred_test)\n",
        "  return (np.mean(train_accuracies), np.mean(test_accuracies),\n",
        "          np.array(y_tests).reshape(-1),\n",
        "          np.array(y_pred_tests).reshape(-1))"
      ],
      "metadata": {
        "id": "Bl6TYlswlt4m"
      },
      "execution_count": 635,
      "outputs": []
    },
    {
      "cell_type": "code",
      "source": [
        "train_acc, test_acc, y_tests, y_preds = train_svms(df_, 7)"
      ],
      "metadata": {
        "id": "CtKs8zUYmlLn"
      },
      "execution_count": 638,
      "outputs": []
    },
    {
      "cell_type": "code",
      "source": [
        "metrics.accuracy_score(y_tests, y_preds)"
      ],
      "metadata": {
        "colab": {
          "base_uri": "https://localhost:8080/"
        },
        "id": "DLAtbLXyl7GZ",
        "outputId": "82fa0a05-8890-4f4d-b7e2-72211169e5f2"
      },
      "execution_count": 639,
      "outputs": [
        {
          "output_type": "execute_result",
          "data": {
            "text/plain": [
              "0.6732673267326733"
            ]
          },
          "metadata": {},
          "execution_count": 639
        }
      ]
    },
    {
      "cell_type": "code",
      "source": [
        "cm = metrics.confusion_matrix(y_pred_test, y_test)\n",
        "cm_display = metrics.ConfusionMatrixDisplay(cm, display_labels=[-1, 0, 1]).plot()"
      ],
      "metadata": {
        "colab": {
          "base_uri": "https://localhost:8080/",
          "height": 449
        },
        "id": "_4Ma2JP0_9I9",
        "outputId": "ec863aa6-a59b-49af-9738-165c1e64643f"
      },
      "execution_count": 590,
      "outputs": [
        {
          "output_type": "display_data",
          "data": {
            "text/plain": [
              "<Figure size 640x480 with 2 Axes>"
            ],
            "image/png": "[encoded data removed]"
          },
          "metadata": {}
        }
      ]
    },
    {
      "cell_type": "code",
      "source": [],
      "metadata": {
        "id": "HABaFhGzkYdx"
      },
      "execution_count": null,
      "outputs": []
    }
  ]
}